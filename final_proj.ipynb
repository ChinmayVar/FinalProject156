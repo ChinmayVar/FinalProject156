{
 "cells": [
  {
   "cell_type": "code",
   "execution_count": 145,
   "metadata": {},
   "outputs": [],
   "source": [
    "# Standard imports\n",
    "import os\n",
    "import cv2\n",
    "import numpy as np\n",
    "import pandas as pd\n",
    "import numpy.linalg as la\n",
    "import numpy.random as npr\n",
    "import seaborn as sns\n",
    "import matplotlib.pyplot as plt\n",
    "from sklearn.decomposition import PCA\n",
    "from sklearn.preprocessing import StandardScaler\n",
    "from sklearn.model_selection import train_test_split\n",
    "from sklearn.decomposition import KernelPCA\n",
    "import statsmodels.api as sm\n",
    "from statsmodels.stats.outliers_influence import variance_inflation_factor\n",
    "%matplotlib inline"
   ]
  },
  {
   "cell_type": "markdown",
   "metadata": {},
   "source": [
    "Data Processing"
   ]
  },
  {
   "cell_type": "code",
   "execution_count": 146,
   "metadata": {},
   "outputs": [
    {
     "data": {
      "text/html": [
       "<div>\n",
       "<style scoped>\n",
       "    .dataframe tbody tr th:only-of-type {\n",
       "        vertical-align: middle;\n",
       "    }\n",
       "\n",
       "    .dataframe tbody tr th {\n",
       "        vertical-align: top;\n",
       "    }\n",
       "\n",
       "    .dataframe thead th {\n",
       "        text-align: right;\n",
       "    }\n",
       "</style>\n",
       "<table border=\"1\" class=\"dataframe\">\n",
       "  <thead>\n",
       "    <tr style=\"text-align: right;\">\n",
       "      <th></th>\n",
       "      <th>W</th>\n",
       "      <th>FG</th>\n",
       "      <th>FGA</th>\n",
       "      <th>2P</th>\n",
       "      <th>2PA</th>\n",
       "      <th>3P</th>\n",
       "      <th>3PA</th>\n",
       "      <th>FT</th>\n",
       "      <th>FTA</th>\n",
       "      <th>ORB</th>\n",
       "      <th>DRB</th>\n",
       "      <th>TRB</th>\n",
       "      <th>AST</th>\n",
       "      <th>STL</th>\n",
       "      <th>BLK</th>\n",
       "      <th>TOV</th>\n",
       "      <th>PF</th>\n",
       "      <th>PTS</th>\n",
       "    </tr>\n",
       "  </thead>\n",
       "  <tbody>\n",
       "    <tr>\n",
       "      <th>0</th>\n",
       "      <td>0.439024</td>\n",
       "      <td>43.036585</td>\n",
       "      <td>92.487805</td>\n",
       "      <td>29.317073</td>\n",
       "      <td>54.780488</td>\n",
       "      <td>13.719512</td>\n",
       "      <td>37.707317</td>\n",
       "      <td>18.536585</td>\n",
       "      <td>23.243902</td>\n",
       "      <td>12.487805</td>\n",
       "      <td>32.182927</td>\n",
       "      <td>44.670732</td>\n",
       "      <td>26.585366</td>\n",
       "      <td>7.500000</td>\n",
       "      <td>4.500000</td>\n",
       "      <td>13.536585</td>\n",
       "      <td>18.560976</td>\n",
       "      <td>118.329268</td>\n",
       "    </tr>\n",
       "    <tr>\n",
       "      <th>1</th>\n",
       "      <td>0.780488</td>\n",
       "      <td>43.914634</td>\n",
       "      <td>90.195122</td>\n",
       "      <td>27.439024</td>\n",
       "      <td>47.731707</td>\n",
       "      <td>16.475610</td>\n",
       "      <td>42.463415</td>\n",
       "      <td>16.268293</td>\n",
       "      <td>20.170732</td>\n",
       "      <td>10.682927</td>\n",
       "      <td>35.646341</td>\n",
       "      <td>46.329268</td>\n",
       "      <td>26.914634</td>\n",
       "      <td>6.792683</td>\n",
       "      <td>6.560976</td>\n",
       "      <td>11.939024</td>\n",
       "      <td>16.170732</td>\n",
       "      <td>120.573171</td>\n",
       "    </tr>\n",
       "    <tr>\n",
       "      <th>2</th>\n",
       "      <td>0.256098</td>\n",
       "      <td>40.012195</td>\n",
       "      <td>86.987805</td>\n",
       "      <td>27.951220</td>\n",
       "      <td>52.987805</td>\n",
       "      <td>12.060976</td>\n",
       "      <td>34.000000</td>\n",
       "      <td>14.500000</td>\n",
       "      <td>18.439024</td>\n",
       "      <td>9.329268</td>\n",
       "      <td>30.951220</td>\n",
       "      <td>40.280488</td>\n",
       "      <td>24.792683</td>\n",
       "      <td>6.853659</td>\n",
       "      <td>4.524390</td>\n",
       "      <td>13.768293</td>\n",
       "      <td>17.951220</td>\n",
       "      <td>106.585366</td>\n",
       "    </tr>\n",
       "    <tr>\n",
       "      <th>3</th>\n",
       "      <td>0.475610</td>\n",
       "      <td>42.048780</td>\n",
       "      <td>89.500000</td>\n",
       "      <td>30.573171</td>\n",
       "      <td>57.426829</td>\n",
       "      <td>11.475610</td>\n",
       "      <td>32.073171</td>\n",
       "      <td>16.695122</td>\n",
       "      <td>21.109756</td>\n",
       "      <td>11.170732</td>\n",
       "      <td>32.646341</td>\n",
       "      <td>43.817073</td>\n",
       "      <td>24.975610</td>\n",
       "      <td>7.780488</td>\n",
       "      <td>4.804878</td>\n",
       "      <td>12.243902</td>\n",
       "      <td>18.792683</td>\n",
       "      <td>112.268293</td>\n",
       "    </tr>\n",
       "    <tr>\n",
       "      <th>4</th>\n",
       "      <td>0.585366</td>\n",
       "      <td>41.768293</td>\n",
       "      <td>87.170732</td>\n",
       "      <td>28.256098</td>\n",
       "      <td>50.390244</td>\n",
       "      <td>13.512195</td>\n",
       "      <td>36.780488</td>\n",
       "      <td>15.585366</td>\n",
       "      <td>20.378049</td>\n",
       "      <td>9.841463</td>\n",
       "      <td>33.439024</td>\n",
       "      <td>43.280488</td>\n",
       "      <td>28.036585</td>\n",
       "      <td>7.378049</td>\n",
       "      <td>4.634146</td>\n",
       "      <td>13.560976</td>\n",
       "      <td>17.512195</td>\n",
       "      <td>112.634146</td>\n",
       "    </tr>\n",
       "  </tbody>\n",
       "</table>\n",
       "</div>"
      ],
      "text/plain": [
       "          W         FG        FGA         2P        2PA         3P        3PA  \\\n",
       "0  0.439024  43.036585  92.487805  29.317073  54.780488  13.719512  37.707317   \n",
       "1  0.780488  43.914634  90.195122  27.439024  47.731707  16.475610  42.463415   \n",
       "2  0.256098  40.012195  86.987805  27.951220  52.987805  12.060976  34.000000   \n",
       "3  0.475610  42.048780  89.500000  30.573171  57.426829  11.475610  32.073171   \n",
       "4  0.585366  41.768293  87.170732  28.256098  50.390244  13.512195  36.780488   \n",
       "\n",
       "          FT        FTA        ORB        DRB        TRB        AST       STL  \\\n",
       "0  18.536585  23.243902  12.487805  32.182927  44.670732  26.585366  7.500000   \n",
       "1  16.268293  20.170732  10.682927  35.646341  46.329268  26.914634  6.792683   \n",
       "2  14.500000  18.439024   9.329268  30.951220  40.280488  24.792683  6.853659   \n",
       "3  16.695122  21.109756  11.170732  32.646341  43.817073  24.975610  7.780488   \n",
       "4  15.585366  20.378049   9.841463  33.439024  43.280488  28.036585  7.378049   \n",
       "\n",
       "        BLK        TOV         PF         PTS  \n",
       "0  4.500000  13.536585  18.560976  118.329268  \n",
       "1  6.560976  11.939024  16.170732  120.573171  \n",
       "2  4.524390  13.768293  17.951220  106.585366  \n",
       "3  4.804878  12.243902  18.792683  112.268293  \n",
       "4  4.634146  13.560976  17.512195  112.634146  "
      ]
     },
     "execution_count": 146,
     "metadata": {},
     "output_type": "execute_result"
    }
   ],
   "source": [
    "df = pd.read_csv('nba.csv')\n",
    "\n",
    "df = df.dropna() # drop NAs\n",
    "\n",
    "# data cleaning\n",
    "df = df.iloc[:, 3:-6] \n",
    "df = df.drop(df.columns[[2, 3, 4]], axis=1)\n",
    "wins = df['W']\n",
    "\n",
    "df = df.div(df['G'], axis=0).drop(columns=['G']) # making the season total stats per game stats\n",
    "\n",
    "df.head()"
   ]
  },
  {
   "cell_type": "code",
   "execution_count": 147,
   "metadata": {},
   "outputs": [
    {
     "data": {
      "text/plain": [
       "(1023, 17)"
      ]
     },
     "execution_count": 147,
     "metadata": {},
     "output_type": "execute_result"
    }
   ],
   "source": [
    "# the per game stats\n",
    "X = df.iloc[:, 1:]\n",
    "X.shape"
   ]
  },
  {
   "cell_type": "code",
   "execution_count": 148,
   "metadata": {},
   "outputs": [
    {
     "data": {
      "text/plain": [
       "(1023,)"
      ]
     },
     "execution_count": 148,
     "metadata": {},
     "output_type": "execute_result"
    }
   ],
   "source": [
    "# win percent in a season\n",
    "y = df.iloc[:, 0]\n",
    "y.shape"
   ]
  },
  {
   "cell_type": "code",
   "execution_count": 149,
   "metadata": {},
   "outputs": [
    {
     "name": "stdout",
     "output_type": "stream",
     "text": [
      "(818, 17) (205, 17)\n",
      "(818,) (205,)\n"
     ]
    }
   ],
   "source": [
    "X_train, X_new, y_train, y_new = train_test_split(X, y, test_size=0.2, random_state=42)\n",
    "print(X_train.shape, X_new.shape)\n",
    "print(y_train.shape, y_new.shape)"
   ]
  },
  {
   "cell_type": "code",
   "execution_count": 150,
   "metadata": {},
   "outputs": [],
   "source": [
    "# Normalize the features\n",
    "scaler = StandardScaler()\n",
    "X_train = scaler.fit_transform(X_train)"
   ]
  },
  {
   "cell_type": "code",
   "execution_count": 151,
   "metadata": {},
   "outputs": [
    {
     "data": {
      "text/plain": [
       "(818, 17)"
      ]
     },
     "execution_count": 151,
     "metadata": {},
     "output_type": "execute_result"
    }
   ],
   "source": [
    "# Center the data for PCA\n",
    "mu = np.mean(X_train,axis = 0, keepdims = True)\n",
    "X_train_tilde = X_train - mu\n",
    "X_train_tilde.shape"
   ]
  },
  {
   "cell_type": "code",
   "execution_count": 152,
   "metadata": {},
   "outputs": [],
   "source": [
    "U,S,VT = np.linalg.svd(X_train_tilde, full_matrices=False)"
   ]
  },
  {
   "cell_type": "code",
   "execution_count": 153,
   "metadata": {},
   "outputs": [
    {
     "data": {
      "image/png": "[encoded data removed]",
      "text/plain": [
       "<Figure size 640x480 with 1 Axes>"
      ]
     },
     "metadata": {},
     "output_type": "display_data"
    }
   ],
   "source": [
    "plt.plot(S,'bo')\n",
    "plt.title('Singular values')\n",
    "plt.show()"
   ]
  },
  {
   "cell_type": "code",
   "execution_count": 154,
   "metadata": {},
   "outputs": [
    {
     "data": {
      "image/png": "[encoded data removed]",
      "text/plain": [
       "<Figure size 800x500 with 1 Axes>"
      ]
     },
     "metadata": {},
     "output_type": "display_data"
    }
   ],
   "source": [
    "# PCA\n",
    "pca = PCA(n_components=7)  # Using the 6 highest singular values\n",
    "X_train_tilde_pca = pca.fit_transform(X_train_tilde)\n",
    "\n",
    "plt.figure(figsize=(8, 5))\n",
    "plt.plot(np.cumsum(pca.explained_variance_ratio_), marker='o', linestyle='--')\n",
    "plt.xlabel('Number of Components')\n",
    "plt.ylabel('Cumulative Explained Variance')\n",
    "plt.title('Explained Variance by Number of Principal Components')\n",
    "plt.show()"
   ]
  },
  {
   "cell_type": "code",
   "execution_count": 155,
   "metadata": {},
   "outputs": [],
   "source": [
    "# Transform the new data using the same steps\n",
    "X_new = scaler.transform(X_new)  # Normalize\n",
    "X_new_tilde = X_new - mu  # Center\n",
    "X_new_tilde_pca = pca.transform(X_new_tilde)  # Apply PCA"
   ]
  }
 ],
 "metadata": {
  "kernelspec": {
   "display_name": "Python 3",
   "language": "python",
   "name": "python3"
  },
  "language_info": {
   "codemirror_mode": {
    "name": "ipython",
    "version": 3
   },
   "file_extension": ".py",
   "mimetype": "text/x-python",
   "name": "python",
   "nbconvert_exporter": "python",
   "pygments_lexer": "ipython3",
   "version": "3.9.6"
  }
 },
 "nbformat": 4,
 "nbformat_minor": 2
}
